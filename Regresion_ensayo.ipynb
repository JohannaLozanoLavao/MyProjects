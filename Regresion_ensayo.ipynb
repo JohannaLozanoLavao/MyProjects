{
 "cells": [
  {
   "cell_type": "markdown",
   "metadata": {},
   "source": [
    "# El hermoso mundo de la regresión lineal\n",
    "Por: L. Johanna Lozano Lavao\n",
    "\n",
    "## Lo simple es bello y bueno\n",
    "\n",
    "El reciente auge del big data y el llamado data science ha llevado a una especie de menosprecio injusto hacia una de las técnicas más bellas y simples pero no menos poderosas del análisis de los datos como es la regresión lineal. Mucho se habla sobre algoritmos de complejo entrenamiento como las redes neuronales, y poco sobre la aún vigente regresión lineal: como si lo simple fuera inapropiado o como si nos diera pena ya seguir hablando de esta hermosa técnica de análisis de datos que cumple ya 216 años.\n",
    "\n",
    "\"Las ideas modernas sobre regresión se originan en los trabajo de Legendre y Gauss, sobre el método de mínimos cuadrados, para ajustar los datos sobre las órbitas de cuerpos celestes. El primer estudio documentado sobre el método de mínimos cuadrados, de donde deriva la idea de regresión es debido a Legendre (1752-1833) en 1805. Esta técnica de optimización intenta encontrar la función (dentro de una familia) que mejor se ajusta a los datos bivariantes, de acuerdo con el criterio de mínimo error cuadrático, y siempre que los datos cumplan algunas condiciones (como independencia). Se conocían las ecuaciones funcionales de estas órbitas, pero los errores de medida hacía que los cálculos fuesen aproximados y se ajustaban ciertas familias de funciones, usando la teoría de errores (y la distribución normal para describirlos)\" (Estepa & Otros, 2012). En 1829 Gauss resuelve esto mediante lo que hoy se conoce como teorema Gauss-Markov. \n",
    "\n",
    "Sin embargo, mucho antes de que se desarrollasen las primeras ideas formales de la regresión y de sus condiciones habilitantes para hacer de este el mejor de los modelos lineales, Quetelet y otros biólogos y astrónomos entre la última década de 1700 y primeros años de 1800, empezaban a notar a través de ejercicios empíricos, una suerte de dependencia entre medidas antropométricas y variables como la edad, el sexo, entre otras. \n",
    "\n",
    "El modelo lineal denominado de regresión relaciona una variable dependiente, generalmente denominada como $Y$ con otras variables denominadas regresoras que se suponen independientes de la variable $Y$:\n",
    "\n",
    "$$Y=B_o+B_1X_1+B_2X_2+...+B_jX_j$$\n",
    "\n",
    "El problema de la regresión consiste en elegir unos valores determinados para los parámetros desconocidos $B _{j}$, de modo que la ecuación quede completamente especificada. Como se aprecia en la siguiente imagen, el algoritmo busca \"el mejor ajuste posible\" a través de la minimización de los parámetros de error o distancia promedia entre cada observación y la predicha por la línea ajustada. Este concepto aunque simple es bastante potente y ha demostrado servir para explicar múltiples fenómenos no sólo de la naturaleza sino también de las ciencias sociales.\n",
    "\n",
    "![Concepto de la mejor línea posible](https://sitiobigdata.com/wp-content/uploads/2019/10/%C2%BFQu%C3%A9-es-la-regresi%C3%B3n-lineal-Parte-2.png)\n",
    "\n",
    "\n",
    "\n",
    "## El problema de la discriminación planteado de forma simple\n",
    "\n",
    "Una de las problemáticas de las ciencias sociales estudiadas a través de múltiples técnicas o algoritmos, incluida la regresión lineal, es la discriminación en el salario por razones de sexo. Muchos son los modelos que se han planteado al respecto los cuales han mostrado que esta cuestión no es tan simple de resolver, pues muchas mujeres efectivamente ganan menos que sus pares masculinos debido a discriminación estructural que las lleva a no aspirar a cargos directivos, a dedicar menos horas al crecimiento laboral (por tener que decidir entre su trabajo y su vida familiar), entre otros aspectos que no están relacionados con una discriminación directa por razones de sexo. \n",
    "\n",
    "Examinemos algunos datos ficticios de pago a hombres y mujeres según su edad, años de experiencia, cargo en la empresa y otras características. Sobre ellos, establezcamos un modelo de regresión lineal que permita observar la influencia real del género en el salario de los empleados."
   ]
  },
  {
   "cell_type": "code",
   "execution_count": 4,
   "metadata": {},
   "outputs": [],
   "source": [
    "import pandas                  as pd\n",
    "from   scipy import stats\n",
    "import numpy                   as np\n",
    "import matplotlib.pyplot       as plt\n",
    "import seaborn                 as sns\n",
    "import statsmodels.formula.api as sm\n",
    "import os"
   ]
  },
  {
   "cell_type": "code",
   "execution_count": 5,
   "metadata": {},
   "outputs": [
    {
     "data": {
      "text/html": [
       "<div>\n",
       "<style scoped>\n",
       "    .dataframe tbody tr th:only-of-type {\n",
       "        vertical-align: middle;\n",
       "    }\n",
       "\n",
       "    .dataframe tbody tr th {\n",
       "        vertical-align: top;\n",
       "    }\n",
       "\n",
       "    .dataframe thead th {\n",
       "        text-align: right;\n",
       "    }\n",
       "</style>\n",
       "<table border=\"1\" class=\"dataframe\">\n",
       "  <thead>\n",
       "    <tr style=\"text-align: right;\">\n",
       "      <th></th>\n",
       "      <th>jobtitle</th>\n",
       "      <th>gender</th>\n",
       "      <th>age</th>\n",
       "      <th>performance</th>\n",
       "      <th>education</th>\n",
       "      <th>department</th>\n",
       "      <th>seniority</th>\n",
       "      <th>income</th>\n",
       "      <th>bonus</th>\n",
       "    </tr>\n",
       "  </thead>\n",
       "  <tbody>\n",
       "    <tr>\n",
       "      <th>0</th>\n",
       "      <td>Graphic Designer</td>\n",
       "      <td>Female</td>\n",
       "      <td>18</td>\n",
       "      <td>5</td>\n",
       "      <td>College</td>\n",
       "      <td>Operations</td>\n",
       "      <td>2</td>\n",
       "      <td>42363</td>\n",
       "      <td>9938</td>\n",
       "    </tr>\n",
       "    <tr>\n",
       "      <th>1</th>\n",
       "      <td>Software Engineer</td>\n",
       "      <td>Male</td>\n",
       "      <td>21</td>\n",
       "      <td>5</td>\n",
       "      <td>College</td>\n",
       "      <td>Management</td>\n",
       "      <td>5</td>\n",
       "      <td>108476</td>\n",
       "      <td>11128</td>\n",
       "    </tr>\n",
       "    <tr>\n",
       "      <th>2</th>\n",
       "      <td>Warehouse Associate</td>\n",
       "      <td>Female</td>\n",
       "      <td>19</td>\n",
       "      <td>4</td>\n",
       "      <td>PhD</td>\n",
       "      <td>Administration</td>\n",
       "      <td>5</td>\n",
       "      <td>90208</td>\n",
       "      <td>9268</td>\n",
       "    </tr>\n",
       "    <tr>\n",
       "      <th>3</th>\n",
       "      <td>Software Engineer</td>\n",
       "      <td>Male</td>\n",
       "      <td>20</td>\n",
       "      <td>5</td>\n",
       "      <td>Masters</td>\n",
       "      <td>Sales</td>\n",
       "      <td>4</td>\n",
       "      <td>108080</td>\n",
       "      <td>10154</td>\n",
       "    </tr>\n",
       "    <tr>\n",
       "      <th>4</th>\n",
       "      <td>Graphic Designer</td>\n",
       "      <td>Male</td>\n",
       "      <td>26</td>\n",
       "      <td>5</td>\n",
       "      <td>Masters</td>\n",
       "      <td>Engineering</td>\n",
       "      <td>5</td>\n",
       "      <td>99464</td>\n",
       "      <td>9319</td>\n",
       "    </tr>\n",
       "  </tbody>\n",
       "</table>\n",
       "</div>"
      ],
      "text/plain": [
       "              jobtitle  gender  age  performance education      department  \\\n",
       "0     Graphic Designer  Female   18            5   College      Operations   \n",
       "1    Software Engineer    Male   21            5   College      Management   \n",
       "2  Warehouse Associate  Female   19            4       PhD  Administration   \n",
       "3    Software Engineer    Male   20            5   Masters           Sales   \n",
       "4     Graphic Designer    Male   26            5   Masters     Engineering   \n",
       "\n",
       "   seniority  income  bonus  \n",
       "0          2   42363   9938  \n",
       "1          5  108476  11128  \n",
       "2          5   90208   9268  \n",
       "3          4  108080  10154  \n",
       "4          5   99464   9319  "
      ]
     },
     "execution_count": 5,
     "metadata": {},
     "output_type": "execute_result"
    }
   ],
   "source": [
    "Data = pd.read_csv('glassdoordata.csv')\n",
    "Data.head()"
   ]
  },
  {
   "cell_type": "markdown",
   "metadata": {},
   "source": [
    "Como se puede apreciar, la base de datos contiene no solo el género y la edad, sino también otras variables que se suponen que tienen relación con el salario como la educación, la experiencia y el performance. Nótese también cómo además del ingreso existe un bonus (posiblemente de desempeño) que debería ser considerado en el análisis de salarios de la compañía."
   ]
  },
  {
   "cell_type": "code",
   "execution_count": 6,
   "metadata": {},
   "outputs": [
    {
     "data": {
      "image/png": "[encoded data removed]",
      "text/plain": [
       "<Figure size 432x288 with 1 Axes>"
      ]
     },
     "metadata": {
      "needs_background": "light"
     },
     "output_type": "display_data"
    }
   ],
   "source": [
    "Data['pay'] = Data['income'] + Data['bonus']\n",
    "\n",
    "sns.boxplot(x='gender', y = 'pay', data = Data) \n",
    "plt.title(\"Pay vs Gender\");"
   ]
  },
  {
   "cell_type": "markdown",
   "metadata": {},
   "source": [
    "En el anterior gráfico box-plot se puede apreciar un aparente salario más alto de los hombres en comparación con las mujeres, sin embargo, ¿es esto suficiente para afirmar que existe discriminación por sexo en el pago de la compañía? La respuesta es no y para ampliar esto hay que irse a la paradoja de Simpson según la cual, en palabras castizas, los análisis agregados pueden llevar a errores de interpretación de los datos. Es necesario un análisis más profundo. Revisemos a continuación la correlación entre las variables numéricas de la base de datos y la varible dependiente de pago."
   ]
  },
  {
   "cell_type": "code",
   "execution_count": 8,
   "metadata": {},
   "outputs": [
    {
     "data": {
      "text/html": [
       "<div>\n",
       "<style scoped>\n",
       "    .dataframe tbody tr th:only-of-type {\n",
       "        vertical-align: middle;\n",
       "    }\n",
       "\n",
       "    .dataframe tbody tr th {\n",
       "        vertical-align: top;\n",
       "    }\n",
       "\n",
       "    .dataframe thead th {\n",
       "        text-align: right;\n",
       "    }\n",
       "</style>\n",
       "<table border=\"1\" class=\"dataframe\">\n",
       "  <thead>\n",
       "    <tr style=\"text-align: right;\">\n",
       "      <th></th>\n",
       "      <th>pay</th>\n",
       "      <th>age</th>\n",
       "      <th>seniority</th>\n",
       "      <th>performance</th>\n",
       "    </tr>\n",
       "  </thead>\n",
       "  <tbody>\n",
       "    <tr>\n",
       "      <th>pay</th>\n",
       "      <td>1.000000</td>\n",
       "      <td>0.533715</td>\n",
       "      <td>0.530307</td>\n",
       "      <td>0.014155</td>\n",
       "    </tr>\n",
       "    <tr>\n",
       "      <th>age</th>\n",
       "      <td>0.533715</td>\n",
       "      <td>1.000000</td>\n",
       "      <td>-0.021414</td>\n",
       "      <td>-0.056875</td>\n",
       "    </tr>\n",
       "    <tr>\n",
       "      <th>seniority</th>\n",
       "      <td>0.530307</td>\n",
       "      <td>-0.021414</td>\n",
       "      <td>1.000000</td>\n",
       "      <td>-0.021127</td>\n",
       "    </tr>\n",
       "    <tr>\n",
       "      <th>performance</th>\n",
       "      <td>0.014155</td>\n",
       "      <td>-0.056875</td>\n",
       "      <td>-0.021127</td>\n",
       "      <td>1.000000</td>\n",
       "    </tr>\n",
       "  </tbody>\n",
       "</table>\n",
       "</div>"
      ],
      "text/plain": [
       "                  pay       age  seniority  performance\n",
       "pay          1.000000  0.533715   0.530307     0.014155\n",
       "age          0.533715  1.000000  -0.021414    -0.056875\n",
       "seniority    0.530307 -0.021414   1.000000    -0.021127\n",
       "performance  0.014155 -0.056875  -0.021127     1.000000"
      ]
     },
     "execution_count": 8,
     "metadata": {},
     "output_type": "execute_result"
    }
   ],
   "source": [
    "corr_mat  = Data[['pay', 'age', 'seniority','performance']].corr()\n",
    "corr_mat"
   ]
  },
  {
   "cell_type": "markdown",
   "metadata": {},
   "source": [
    "En el cuadro anterior se puede apreciar que el pago está relacionado con la edad y la experiencia y en menor medida con el performance de los empleados de la compañía. Incorporemos esas variables en un modelo de regresión lineal y analicemos sus coeficientes."
   ]
  },
  {
   "cell_type": "code",
   "execution_count": 9,
   "metadata": {},
   "outputs": [
    {
     "name": "stdout",
     "output_type": "stream",
     "text": [
      "                            OLS Regression Results                            \n",
      "==============================================================================\n",
      "Dep. Variable:                    pay   R-squared:                       0.841\n",
      "Model:                            OLS   Adj. R-squared:                  0.838\n",
      "Method:                 Least Squares   F-statistic:                     259.6\n",
      "Date:                Mon, 22 Mar 2021   Prob (F-statistic):               0.00\n",
      "Time:                        18:30:04   Log-Likelihood:                -10631.\n",
      "No. Observations:                1000   AIC:                         2.130e+04\n",
      "Df Residuals:                     979   BIC:                         2.141e+04\n",
      "Df Model:                          20                                         \n",
      "Covariance Type:            nonrobust                                         \n",
      "===================================================================================================\n",
      "                                      coef    std err          t      P>|t|      [0.025      0.975]\n",
      "---------------------------------------------------------------------------------------------------\n",
      "Intercept                        2.203e+04   1933.534     11.392      0.000    1.82e+04    2.58e+04\n",
      "jobtitle[T.Driver]              -3928.9812   1447.166     -2.715      0.007   -6768.886   -1089.076\n",
      "jobtitle[T.Financial Analyst]    3417.7090   1388.276      2.462      0.014     693.370    6142.048\n",
      "jobtitle[T.Graphic Designer]    -2457.6992   1420.886     -1.730      0.084   -5246.031     330.633\n",
      "jobtitle[T.IT]                  -2149.7022   1427.414     -1.506      0.132   -4950.846     651.442\n",
      "jobtitle[T.Manager]               3.16e+04   1471.445     21.476      0.000    2.87e+04    3.45e+04\n",
      "jobtitle[T.Marketing Associate] -1.701e+04   1385.795    -12.277      0.000   -1.97e+04   -1.43e+04\n",
      "jobtitle[T.Sales Associate]       263.4456   1435.261      0.184      0.854   -2553.096    3079.988\n",
      "jobtitle[T.Software Engineer]    1.339e+04   1413.182      9.473      0.000    1.06e+04    1.62e+04\n",
      "jobtitle[T.Warehouse Associate]  -564.0171   1452.967     -0.388      0.698   -3415.305    2287.271\n",
      "education[T.High School]        -1435.1693    908.773     -1.579      0.115   -3218.536     348.198\n",
      "education[T.Masters]             4717.9971    914.421      5.160      0.000    2923.546    6512.448\n",
      "education[T.PhD]                 6026.2867    929.705      6.482      0.000    4201.842    7850.731\n",
      "department[T.Engineering]        3267.9358   1036.509      3.153      0.002    1233.901    5301.970\n",
      "department[T.Management]         2957.8290   1033.031      2.863      0.004     930.619    4985.039\n",
      "department[T.Operations]         -481.4968   1014.616     -0.475      0.635   -2472.570    1509.577\n",
      "department[T.Sales]              6193.4962   1020.679      6.068      0.000    4190.526    8196.466\n",
      "gender[T.Male]                    392.3244    715.798      0.548      0.584   -1012.351    1797.000\n",
      "age                               948.9464     22.527     42.126      0.000     904.740     993.152\n",
      "performance                      1156.8797    228.188      5.070      0.000     709.085    1604.674\n",
      "seniority                        9903.7103    231.490     42.782      0.000    9449.436    1.04e+04\n",
      "==============================================================================\n",
      "Omnibus:                        3.500   Durbin-Watson:                   1.982\n",
      "Prob(Omnibus):                  0.174   Jarque-Bera (JB):                3.555\n",
      "Skew:                          -0.130   Prob(JB):                        0.169\n",
      "Kurtosis:                       2.866   Cond. No.                         453.\n",
      "==============================================================================\n",
      "\n",
      "Warnings:\n",
      "[1] Standard Errors assume that the covariance matrix of the errors is correctly specified.\n"
     ]
    }
   ],
   "source": [
    "model4 = 'pay~jobtitle + age + performance + education + department + seniority + gender'\n",
    "lm4    = sm.ols(formula = model4, data = Data).fit()\n",
    "print(lm4.summary())"
   ]
  },
  {
   "cell_type": "markdown",
   "metadata": {},
   "source": [
    "Es posible apreciar que si un empleado, cualquiera que sea su edad se hace un año más viejo, su pago se incrementa en 948.95 USD en promedio. Además, un año adicional de experiencia incrementan también el pago en 9903 USD mientras que el performance lo hace en 1156 USD. El coeficiente del género nos indica que efectivamente los hombres, en promedio, ganan 392.32 USD más que las mujeres, ceteris paribus las otras variables. Este, sin embargo, según su p-value no es un coeficiente significativo para el análisis."
   ]
  },
  {
   "cell_type": "markdown",
   "metadata": {},
   "source": [
    "## Concluyendo...\n",
    "\n",
    "Los modelos lineales y en particular el modelo de regresión lineal, siguen siendo poderosos y valiosos en el análisis de múltiples problemáticas actuales y por lo tanto, no debe ser menospreciado ante el auge de las técnicas de machine learning.\n",
    "\n",
    "\n",
    "## Bibliografía\n",
    "\n",
    "Estepa & otros (2012). Algunas notas históricas sobre la correlación y regresión y su uso en el aula. En: Números, Volumen 81, noviembre de 2012, páginas 5-14. ISSN: 1887-1984\n",
    "\n",
    "Sitio BigData. ¿Qué es la regresión lineal? https://sitiobigdata.com/2019/10/25/que-es-la-regresion-lineal/#:~:text=La%20regresión%20lineal%20es%20un,variables%20de%20predicción%20y%20respuesta%20.&text=La%20variable%20de%20respuesta%20se,se%20conoce%20como%20variable%20dependiente"
   ]
  }
 ],
 "metadata": {
  "kernelspec": {
   "display_name": "Python 3",
   "language": "python",
   "name": "python3"
  },
  "language_info": {
   "codemirror_mode": {
    "name": "ipython",
    "version": 3
   },
   "file_extension": ".py",
   "mimetype": "text/x-python",
   "name": "python",
   "nbconvert_exporter": "python",
   "pygments_lexer": "ipython3",
   "version": "3.7.3"
  }
 },
 "nbformat": 4,
 "nbformat_minor": 2
}
