{
 "cells": [
  {
   "cell_type": "markdown",
   "metadata": {
    "id": "NFDzi0-Ldr_z"
   },
   "source": [
    "# La nostalgia del melómano\r\n",
    "## Capítulo 1\r\n",
    "\r\n",
    "Este es mi libro favorito\r\n",
    "\r\n",
    "[venta en Librería Nacional](https://librerianacional.com/producto/la-nostalgia-del-melomano)\r\n",
    "\r\n",
    "![Carátula del libro](https://storage.googleapis.com/catalogo-libros/extralarge/f114a348-b75c-630e-d5a6-5cd30f7cdde5_imagen.jpg)\r\n",
    "\r\n",
    "*bla bla bla*\r\n",
    "\r\n",
    "**bla bla bla**"
   ]
  },
  {
   "cell_type": "code",
   "execution_count": 1,
   "metadata": {
    "colab": {
     "base_uri": "https://localhost:8080/"
    },
    "id": "JmKmmGxJeL6x",
    "outputId": "56be4e08-6e2c-4dcb-9140-ee3f86264f19"
   },
   "outputs": [
    {
     "name": "stdout",
     "output_type": "stream",
     "text": [
      "Hello\n"
     ]
    }
   ],
   "source": [
    "print(\"Hello\")"
   ]
  },
  {
   "cell_type": "markdown",
   "metadata": {},
   "source": []
  }
 ],
 "metadata": {
  "colab": {
   "name": "Prueba.ipynb",
   "provenance": []
  },
  "kernelspec": {
   "display_name": "Python 3",
   "language": "python",
   "name": "python3"
  },
  "language_info": {
   "codemirror_mode": {
    "name": "ipython",
    "version": 3
   },
   "file_extension": ".py",
   "mimetype": "text/x-python",
   "name": "python",
   "nbconvert_exporter": "python",
   "pygments_lexer": "ipython3",
   "version": "3.7.3"
  }
 },
 "nbformat": 4,
 "nbformat_minor": 2
}
